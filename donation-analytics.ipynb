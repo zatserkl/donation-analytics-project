{
 "cells": [
  {
   "cell_type": "code",
   "execution_count": 19,
   "metadata": {},
   "outputs": [
    {
     "name": "stdout",
     "output_type": "stream",
     "text": [
      "README.md                          \u001b[34mindiv18\u001b[m\u001b[m/\r\n",
      "SABOURIN.indiv18__by_date.txt      indiv18__itcont-700000.txt\r\n",
      "SABOURIN.indiv18__itcont.txt       \u001b[34minput\u001b[m\u001b[m/\r\n",
      "donation-analytics-pandas-orig.py  \u001b[34minsight_testsuite\u001b[m\u001b[m/\r\n",
      "donation-analytics-pandas.py       itcont-test.txt\r\n",
      "donation-analytics.ipynb           \u001b[35mitcont_2018_20070823_20170529.txt\u001b[m\u001b[m@\r\n",
      "ex7.csv                            \u001b[34moutput\u001b[m\u001b[m/\r\n",
      "ex7.txt                            run.sh\r\n",
      "\u001b[34mindiv14\u001b[m\u001b[m/                           \u001b[34msrc\u001b[m\u001b[m/\r\n"
     ]
    }
   ],
   "source": [
    "ls"
   ]
  },
  {
   "cell_type": "code",
   "execution_count": 22,
   "metadata": {},
   "outputs": [
    {
     "name": "stdout",
     "output_type": "stream",
     "text": [
      "read the file now\n",
      "['C00629618', 'N', 'TER', 'P', '201701230300133512', '15C', 'IND', 'PEREZ, JOHN A', 'LOS ANGELES', 'CA', '90017', 'PRINCIPAL', 'DOUBLE NICKEL ADVISORS', '01032017', '40', 'H6CA34245', 'SA01251735122', '1141239', '', '', '2012520171368850783']\n",
      "['C00177436', 'N', 'M2', 'P', '201702039042410894', '15', 'IND', 'DEEHAN, WILLIAM N', 'ALPHARETTA', 'GA', '300047357', 'UNUM', 'SVP, SALES, CL', '01312017', '384', '', 'PR2283873845050', '1147350', '', 'P/R DEDUCTION ($192.00 BI-WEEKLY)', '4020820171370029337']\n",
      "['C00384818', 'N', 'M2', 'P', '201702039042412112', '15', 'IND', 'ABBOTT, JOSEPH', 'WOONSOCKET', 'RI', '028956146', 'CVS HEALTH', 'VP, RETAIL PHARMACY OPS', '01122017', '250', '', '2017020211435-887', '1147467', '', '', '4020820171370030285']\n",
      "['C00384516', 'N', 'M2', 'P', '201702039042410893', '15', 'IND', 'SABOURIN, JAMES', 'LOOKOUT MOUNTAIN', 'GA', '028956146', 'UNUM', 'SVP, CORPORATE COMMUNICATIONS', '01312017', '230', '', 'PR1890575345050', '1147350', '', 'P/R DEDUCTION ($115.00 BI-WEEKLY)', '4020820171370029335']\n",
      "['C00177436', 'N', 'M2', 'P', '201702039042410895', '15', 'IND', 'JEROME, CHRISTOPHER', 'LOOKOUT MOUNTAIN', 'GA', '307502818', 'UNUM', 'EVP, GLOBAL SERVICES', '10312017', '384', '', 'PR2283905245050', '1147350', '', 'P/R DEDUCTION ($192.00 BI-WEEKLY)', '4020820171370029342']\n",
      "['C00384516', 'N', 'M2', 'P', '201702039042412112', '15', 'IND', 'ABBOTT, JOSEPH', 'WOONSOCKET', 'RI', '028956146', 'CVS HEALTH', 'EVP, HEAD OF RETAIL OPERATIONS', '01122018', '333', '', '2017020211435-910', '1147467', '', '', '4020820171370030287']\n",
      "['C00384516', 'N', 'M2', 'P', '201702039042410894', '15', 'IND', 'SABOURIN, JAMES', 'LOOKOUT MOUNTAIN', 'GA', '028956146', 'UNUM', 'SVP, CORPORATE COMMUNICATIONS', '01312018', '384', '', 'PR2283904845050', '1147350', '', 'P/R DEDUCTION ($192.00 BI-WEEKLY)', '4020820171370029339']\n"
     ]
    }
   ],
   "source": [
    "import csv\n",
    "\n",
    "try:\n",
    "    f = open('itcont-test.txt')\n",
    "    # f = open('ex7.csv')\n",
    "    # f = open('ex7.txt')\n",
    "except IOError as e:\n",
    "    print(e)\n",
    "    print(\"terminate\")\n",
    "\n",
    "print(\"read the file now\")\n",
    "\n",
    "# reader = csv.reader(f, delimiter='|')\n",
    "\n",
    "# for line in reader:\n",
    "#     print(line)\n",
    "\n",
    "lines = list(csv.reader(f, delimiter='|'))\n",
    "\n",
    "for line in lines:\n",
    "    print(line)"
   ]
  },
  {
   "cell_type": "code",
   "execution_count": 24,
   "metadata": {},
   "outputs": [
    {
     "name": "stdout",
     "output_type": "stream",
     "text": [
      "['C00629618', 'N', 'TER', 'P', '201701230300133512', '15C', 'IND', 'PEREZ, JOHN A', 'LOS ANGELES', 'CA', '90017', 'PRINCIPAL', 'DOUBLE NICKEL ADVISORS', '01032017', '40', 'H6CA34245', 'SA01251735122', '1141239', '', '', '2012520171368850783']\n",
      "['C00177436', 'N', 'M2', 'P', '201702039042410894', '15', 'IND', 'DEEHAN, WILLIAM N', 'ALPHARETTA', 'GA', '300047357', 'UNUM', 'SVP, SALES, CL', '01312017', '384', '', 'PR2283873845050', '1147350', '', 'P/R DEDUCTION ($192.00 BI-WEEKLY)', '4020820171370029337']\n",
      "['C00384818', 'N', 'M2', 'P', '201702039042412112', '15', 'IND', 'ABBOTT, JOSEPH', 'WOONSOCKET', 'RI', '028956146', 'CVS HEALTH', 'VP, RETAIL PHARMACY OPS', '01122017', '250', '', '2017020211435-887', '1147467', '', '', '4020820171370030285']\n",
      "['C00384516', 'N', 'M2', 'P', '201702039042410893', '15', 'IND', 'SABOURIN, JAMES', 'LOOKOUT MOUNTAIN', 'GA', '028956146', 'UNUM', 'SVP, CORPORATE COMMUNICATIONS', '01312017', '230', '', 'PR1890575345050', '1147350', '', 'P/R DEDUCTION ($115.00 BI-WEEKLY)', '4020820171370029335']\n",
      "['C00177436', 'N', 'M2', 'P', '201702039042410895', '15', 'IND', 'JEROME, CHRISTOPHER', 'LOOKOUT MOUNTAIN', 'GA', '307502818', 'UNUM', 'EVP, GLOBAL SERVICES', '10312017', '384', '', 'PR2283905245050', '1147350', '', 'P/R DEDUCTION ($192.00 BI-WEEKLY)', '4020820171370029342']\n",
      "['C00384516', 'N', 'M2', 'P', '201702039042412112', '15', 'IND', 'ABBOTT, JOSEPH', 'WOONSOCKET', 'RI', '028956146', 'CVS HEALTH', 'EVP, HEAD OF RETAIL OPERATIONS', '01122018', '333', '', '2017020211435-910', '1147467', '', '', '4020820171370030287']\n",
      "['C00384516', 'N', 'M2', 'P', '201702039042410894', '15', 'IND', 'SABOURIN, JAMES', 'LOOKOUT MOUNTAIN', 'GA', '028956146', 'UNUM', 'SVP, CORPORATE COMMUNICATIONS', '01312018', '384', '', 'PR2283904845050', '1147350', '', 'P/R DEDUCTION ($192.00 BI-WEEKLY)', '4020820171370029339']\n"
     ]
    }
   ],
   "source": [
    "import csv\n",
    "\n",
    "f = open(\"itcont-test.txt\", \"r\")\n",
    "reader = csv.reader(f, delimiter='|')\n",
    "\n",
    "for line in reader:\n",
    "    print(line)"
   ]
  },
  {
   "cell_type": "code",
   "execution_count": 25,
   "metadata": {},
   "outputs": [
    {
     "ename": "ValueError",
     "evalue": "invalid literal for int() with base 10: 'a123'",
     "output_type": "error",
     "traceback": [
      "\u001b[0;31m---------------------------------------------------------------------------\u001b[0m",
      "\u001b[0;31mValueError\u001b[0m                                Traceback (most recent call last)",
      "\u001b[0;32m<ipython-input-25-42f10543cbd7>\u001b[0m in \u001b[0;36m<module>\u001b[0;34m()\u001b[0m\n\u001b[1;32m      1\u001b[0m \u001b[0mnumber_str\u001b[0m \u001b[0;34m=\u001b[0m \u001b[0;34m'a123'\u001b[0m\u001b[0;34m\u001b[0m\u001b[0m\n\u001b[0;32m----> 2\u001b[0;31m \u001b[0mnumber\u001b[0m \u001b[0;34m=\u001b[0m \u001b[0mint\u001b[0m\u001b[0;34m(\u001b[0m\u001b[0mnumber_str\u001b[0m\u001b[0;34m)\u001b[0m\u001b[0;34m\u001b[0m\u001b[0m\n\u001b[0m\u001b[1;32m      3\u001b[0m \u001b[0mprint\u001b[0m\u001b[0;34m(\u001b[0m\u001b[0mnumber\u001b[0m\u001b[0;34m)\u001b[0m\u001b[0;34m\u001b[0m\u001b[0m\n",
      "\u001b[0;31mValueError\u001b[0m: invalid literal for int() with base 10: 'a123'"
     ]
    }
   ],
   "source": [
    "number_str = 'a123'\n",
    "number = int(number_str)\n",
    "print(number)"
   ]
  },
  {
   "cell_type": "code",
   "execution_count": 27,
   "metadata": {},
   "outputs": [
    {
     "name": "stdout",
     "output_type": "stream",
     "text": [
      "['a', 'b', 'c']\n",
      "['1', '2', '3']\n",
      "['1', '2', '3']\n",
      "['1', '2', '3']\n"
     ]
    }
   ],
   "source": [
    "import csv\n",
    "\n",
    "f = open(\"ex7-link.txt\", \"r\")\n",
    "reader = csv.reader(f, delimiter='|')\n",
    "\n",
    "for line in reader:\n",
    "    print(line)"
   ]
  },
  {
   "cell_type": "code",
   "execution_count": 29,
   "metadata": {},
   "outputs": [
    {
     "name": "stdout",
     "output_type": "stream",
     "text": [
      "defaultdict(<class 'list'>, {'a': [10]})\n",
      "defaultdict(<class 'list'>, {'a': [10, 20]})\n"
     ]
    }
   ],
   "source": [
    "from collections import defaultdict\n",
    "d = defaultdict(list)\n",
    "d['a'].append(10)\n",
    "print(d)\n",
    "d['a'].append(20)\n",
    "print(d)\n",
    "\n",
    "for item in "
   ]
  }
 ],
 "metadata": {
  "kernelspec": {
   "display_name": "Python 3",
   "language": "python",
   "name": "python3"
  },
  "language_info": {
   "codemirror_mode": {
    "name": "ipython",
    "version": 3
   },
   "file_extension": ".py",
   "mimetype": "text/x-python",
   "name": "python",
   "nbconvert_exporter": "python",
   "pygments_lexer": "ipython3",
   "version": "3.6.3"
  }
 },
 "nbformat": 4,
 "nbformat_minor": 2
}
